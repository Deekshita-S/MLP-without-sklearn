{
 "cells": [
  {
   "cell_type": "code",
   "execution_count": 2,
   "id": "f15d3ffe-e4ce-4577-af20-d4869b42982e",
   "metadata": {},
   "outputs": [],
   "source": [
    "import numpy as np"
   ]
  },
  {
   "cell_type": "code",
   "execution_count": 7,
   "id": "fe1509c6-f691-4ffc-98b5-63ac5bffae17",
   "metadata": {},
   "outputs": [
    {
     "name": "stdout",
     "output_type": "stream",
     "text": [
      "Enter weights to neuron  1\n"
     ]
    }
   ],
   "source": [
    "print('Enter weights to neuron ',1)"
   ]
  },
  {
   "cell_type": "code",
   "execution_count": 40,
   "id": "37c7d9c9-562f-40b9-8f41-6f60b8b6ccf6",
   "metadata": {},
   "outputs": [
    {
     "name": "stdout",
     "output_type": "stream",
     "text": [
      "[[0. 0.]\n",
      " [1. 0.]\n",
      " [1. 0.]\n",
      " [2. 1.]]\n"
     ]
    }
   ],
   "source": [
    "t=np.array([[ 0., -1.],\n",
    " [ 1.,  0.],\n",
    " [ 1.,  0.],\n",
    " [ 2.,  1.]])\n",
    "for i in range(t.shape[0]):\n",
    "    for j in range(t.shape[1]):\n",
    "        if t[i][j]<0:\n",
    "            t[i][j]=0\n",
    "print(t)\n",
    "            "
   ]
  },
  {
   "cell_type": "code",
   "execution_count": 51,
   "id": "6a1b55cc-b6d6-4496-ad9b-d5cac26dd657",
   "metadata": {},
   "outputs": [
    {
     "name": "stdin",
     "output_type": "stream",
     "text": [
      "Number of layers:  2\n",
      "Enter the number of inputs:  2\n",
      "Enter the number of neurons:  2\n"
     ]
    },
    {
     "name": "stdout",
     "output_type": "stream",
     "text": [
      "[[0. 0.]\n",
      " [0. 0.]]\n",
      "Enter weights to neuron  0  as comma separarted list: \n"
     ]
    },
    {
     "name": "stdin",
     "output_type": "stream",
     "text": [
      " 1,1\n"
     ]
    },
    {
     "name": "stdout",
     "output_type": "stream",
     "text": [
      "Enter weights to neuron  1  as comma separarted list: \n"
     ]
    },
    {
     "name": "stdin",
     "output_type": "stream",
     "text": [
      " 1,1\n"
     ]
    },
    {
     "name": "stdout",
     "output_type": "stream",
     "text": [
      "[[1. 1.]\n",
      " [1. 1.]]\n"
     ]
    },
    {
     "name": "stdin",
     "output_type": "stream",
     "text": [
      "Enter bias:  0,-1\n"
     ]
    },
    {
     "name": "stdout",
     "output_type": "stream",
     "text": [
      "[[0. 0.]\n",
      " [1. 0.]\n",
      " [1. 0.]\n",
      " [2. 1.]]\n"
     ]
    },
    {
     "name": "stdin",
     "output_type": "stream",
     "text": [
      "Enter the number of inputs:  2\n",
      "Enter the number of neurons:  1\n"
     ]
    },
    {
     "name": "stdout",
     "output_type": "stream",
     "text": [
      "[[0. 0.]]\n",
      "Enter weights to neuron  0  as comma separarted list: \n"
     ]
    },
    {
     "name": "stdin",
     "output_type": "stream",
     "text": [
      " 1,-2\n"
     ]
    },
    {
     "name": "stdout",
     "output_type": "stream",
     "text": [
      "[[ 1. -2.]]\n"
     ]
    },
    {
     "name": "stdin",
     "output_type": "stream",
     "text": [
      "Enter bias:  0\n"
     ]
    },
    {
     "name": "stdout",
     "output_type": "stream",
     "text": [
      "[[0.]\n",
      " [1.]\n",
      " [1.]\n",
      " [0.]]\n"
     ]
    }
   ],
   "source": [
    "x=np.array([[0,0],[0,1],[1,0],[1,1]])\n",
    "y=np.array([0,1,1,0])\n",
    "\n",
    "def neuron(input,wt,bias):\n",
    "    B=np.tile(bias, (input.shape[0],1))\n",
    "    z=np.matmul(input,wt.T)+B\n",
    "    y_pred=activation(z)\n",
    "    return y_pred\n",
    "    \n",
    "def activation(t):\n",
    "    for i in range(t.shape[0]):\n",
    "        for j in range(t.shape[1]):\n",
    "            if t[i][j]<0:\n",
    "                t[i][j]=0\n",
    "    return t\n",
    "        \n",
    "    \n",
    "    \n",
    "l=int(input('Number of layers: '))\n",
    "\n",
    "for j in range(l):\n",
    "        m=int(input('Enter the number of inputs: '))\n",
    "        n=int(input('Enter the number of neurons: '))\n",
    "        wt=np.zeros((n,m))\n",
    "        print(wt)\n",
    "        for i in range(n):\n",
    "            print('Enter weights to neuron ',i,' as comma separarted list: ')\n",
    "            wt[i,:]=[float(x) for x in input().split(',')]\n",
    "        print(wt)\n",
    "        bias=[float(x) for x in input('Enter bias: ').split(',')]\n",
    "        bias\n",
    "        print(neuron(x,wt,bias))\n",
    "        x=neuron(x,wt,bias)\n",
    "    \n",
    "\n",
    "        \n",
    "\n",
    "\n"
   ]
  }
 ],
 "metadata": {
  "kernelspec": {
   "display_name": "Python 3 (ipykernel)",
   "language": "python",
   "name": "python3"
  },
  "language_info": {
   "codemirror_mode": {
    "name": "ipython",
    "version": 3
   },
   "file_extension": ".py",
   "mimetype": "text/x-python",
   "name": "python",
   "nbconvert_exporter": "python",
   "pygments_lexer": "ipython3",
   "version": "3.11.6"
  }
 },
 "nbformat": 4,
 "nbformat_minor": 5
}
